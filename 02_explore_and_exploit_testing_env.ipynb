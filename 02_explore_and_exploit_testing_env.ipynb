{
 "cells": [
  {
   "cell_type": "code",
   "id": "initial_id",
   "metadata": {
    "collapsed": true,
    "ExecuteTime": {
     "end_time": "2024-04-22T13:09:37.825615Z",
     "start_time": "2024-04-22T13:09:36.548501Z"
    }
   },
   "source": [
    "from itertools import permutations\n",
    "import numpy as np\n",
    "import requests\n",
    "from sklearn.linear_model import LinearRegression\n",
    "from sklearn.metrics import r2_score, mean_squared_error\n",
    "from tqdm.notebook import tqdm\n",
    "import pandas as pd\n",
    "from pprint import pprint\n",
    "# URL to make requests: fill in x and y coordinates\n",
    "URL = 'http://65.108.84.176:8080/{}/{}'"
   ],
   "execution_count": 1,
   "outputs": []
  },
  {
   "cell_type": "markdown",
   "source": [
    "# Task\n",
    "\n",
    "### Solve the testing environment with linear regression.\n",
    "\n",
    "Objectives:\n",
    " 1. Grid sample the environment.\n",
    " 2. Fit the linear regression model.\n",
    " 3. If the linear function describes the space, the environment is linearly deterministic:\n",
    "    * Verify the linearity of data.\n",
    "    * Solve the deterministic environment knowing the linear function. \n",
    "    * Build a path through the 10 best points using brute force."
   ],
   "metadata": {
    "collapsed": false
   },
   "id": "5888cc2ab147ef34"
  },
  {
   "cell_type": "code",
   "source": [
    "def make_api_call(x: float = 0, y: float = 0) -> float:\n",
    "    \"\"\"Make API call to the testing server.\"\"\"\n",
    "    # Plug in x and y coordinates provided\n",
    "    response = requests.get(URL.format(x, y))\n",
    "    # Parse JSON with received z-coordinate\n",
    "    return response.json()['z']\n",
    "# Initial agent coordinates\n",
    "START_X = 0\n",
    "START_Y = 0\n",
    "# Path traversed by the agent\n",
    "PATH = []"
   ],
   "metadata": {
    "collapsed": false,
    "ExecuteTime": {
     "end_time": "2024-04-22T13:09:37.828847Z",
     "start_time": "2024-04-22T13:09:37.826589Z"
    }
   },
   "id": "436ade424f1cfa4e",
   "execution_count": 2,
   "outputs": []
  },
  {
   "metadata": {},
   "cell_type": "markdown",
   "source": [
    "#### 1. Grid sample the environment\n",
    "Strategy:\n",
    "1. Spend 25 explorations into getting 5x5 map representation of the environment.\n",
    "2. If the relationship is linear, then the environment is deterministic.\n",
    "3. Otherwise, the gridline would suggest where to look for the target."
   ],
   "id": "61c4313465ea6e47"
  },
  {
   "cell_type": "code",
   "source": [
    "def get_grid_points(depth: int, step: float, name: str) -> list[tuple]:\n",
    "    \"\"\"Query a rectangular map representation of the environment.\"\"\"\n",
    "    res = []\n",
    "    size = 2 * depth + 1\n",
    "    # Iterate over rows and columns\n",
    "    desc = f'Downloading \\\"{name}\\\" {size}x{size} sample'\n",
    "    for y in tqdm(reversed(range(-depth, depth + 1)), total=size, desc=desc):\n",
    "        for x in range(-depth, depth + 1):\n",
    "            z = make_api_call(x * step, y * step)\n",
    "            res.append((x * step, y * step, z))\n",
    "    return res\n",
    "# Explore square diagonals from zero value\n",
    "grid_7_x_7_points = get_grid_points(2, 50, 'initial grid points')"
   ],
   "metadata": {
    "collapsed": false,
    "ExecuteTime": {
     "end_time": "2024-04-22T13:09:39.774305Z",
     "start_time": "2024-04-22T13:09:37.829685Z"
    }
   },
   "id": "74ea7d30dc105cbc",
   "execution_count": 3,
   "outputs": []
  },
  {
   "metadata": {},
   "cell_type": "markdown",
   "source": "#### 2. Fit linear regression model",
   "id": "dfd8cde8cea17796"
  },
  {
   "metadata": {
    "ExecuteTime": {
     "end_time": "2024-04-22T13:09:39.782584Z",
     "start_time": "2024-04-22T13:09:39.777271Z"
    }
   },
   "cell_type": "code",
   "source": [
    "# Convert to numpy\n",
    "grid_7_x_7_arr = np.array(grid_7_x_7_points)\n",
    "xy = grid_7_x_7_arr[:, :2]\n",
    "z = grid_7_x_7_arr[:, 2]\n",
    "# Create a linear regression model and fit it to the grid sample\n",
    "model = LinearRegression()\n",
    "model.fit(xy, z)\n",
    "# The coefficients and intercept of the plane\n",
    "a, b = model.coef_\n",
    "c = model.intercept_\n",
    "print(f\"The linear function is: z(x, y) = {a:.2f}x + {b:.2f}y + {c:.2f}\")"
   ],
   "id": "fae0632e2463b421",
   "execution_count": 4,
   "outputs": []
  },
  {
   "metadata": {},
   "cell_type": "markdown",
   "source": "#### 3.1 Verify linearity of data",
   "id": "d9a7f252ab698e2"
  },
  {
   "metadata": {
    "ExecuteTime": {
     "end_time": "2024-04-22T13:09:39.788236Z",
     "start_time": "2024-04-22T13:09:39.783667Z"
    }
   },
   "cell_type": "code",
   "source": [
    "def prove_linearity(_model, _xy, _z, threshold_r2=0.8, threshold_mse=10) -> bool:\n",
    "    \"\"\"Prove that the dataset relationship is linear.\"\"\"\n",
    "    z_pred = _model.predict(_xy)\n",
    "    # Calculate R-squared\n",
    "    r2 = r2_score(_z, z_pred)\n",
    "    # Calculate Mean Squared Error\n",
    "    mse = mean_squared_error(_z, z_pred)\n",
    "    # Check if R-squared is above the threshold and MSE is below the threshold\n",
    "    if r2 >= threshold_r2 and mse <= threshold_mse:\n",
    "        return True\n",
    "    else:\n",
    "        return False\n",
    "# Prove linearity\n",
    "is_linear = prove_linearity(model, xy, z)\n",
    "is_linear"
   ],
   "id": "f9a601f7d56d3ccb",
   "execution_count": 5,
   "outputs": []
  },
  {
   "cell_type": "markdown",
   "source": "#### 3.2 Solve the deterministic environment knowing the linear function with the brute force",
   "metadata": {
    "collapsed": false
   },
   "id": "fc83884949033083"
  },
  {
   "metadata": {
    "ExecuteTime": {
     "end_time": "2024-04-22T13:09:39.810002Z",
     "start_time": "2024-04-22T13:09:39.789029Z"
    }
   },
   "cell_type": "code",
   "source": [
    "if is_linear:\n",
    "    # Replicate the function on the server\n",
    "    linear_function = lambda x, y: a * x + b * y + c\n",
    "    # Find all coordinates in the deterministic environment\n",
    "    all_points = []\n",
    "    for y in reversed(range(-100, 100 + 1)):\n",
    "        for x in range(-100, 100 + 1):\n",
    "            z = linear_function(x, y)\n",
    "            all_points.append((x, y, z))\n",
    "    # Sort the list of all points by the z-coord value\n",
    "    all_points_sorted = sorted(all_points, key=lambda x: x[2])\n",
    "    # Select top 10 values\n",
    "    PATH = all_points_sorted[-10:]\n",
    "    pprint(PATH)"
   ],
   "id": "8cf65424b600d186",
   "execution_count": 6,
   "outputs": []
  },
  {
   "metadata": {},
   "cell_type": "markdown",
   "source": "#### 3.3 Build a path through the 10 best points using brute force",
   "id": "53e6c4abc9558b0d"
  },
  {
   "metadata": {
    "ExecuteTime": {
     "end_time": "2024-04-22T13:09:43.941923Z",
     "start_time": "2024-04-22T13:09:39.811629Z"
    }
   },
   "cell_type": "code",
   "source": [
    "def calculate_euclidean_distance(p1, p2):\n",
    "    \"\"\"Find the distance between two points.\"\"\"\n",
    "    return abs(p1[0] - p2[0]) + abs(p1[1] - p2[1])\n",
    "\n",
    "def find_hamiltonian_path(points):\n",
    "    \"\"\"Find the hamiltonian path between the richest points.\"\"\"\n",
    "    n = len(points)\n",
    "    min_distance = float('inf')\n",
    "    min_path = None\n",
    "\n",
    "    for perm in permutations(points):\n",
    "        total_distance = 0\n",
    "        for i in range(n - 1):\n",
    "            total_distance += calculate_euclidean_distance(perm[i], perm[i + 1])\n",
    "\n",
    "        if total_distance < min_distance:\n",
    "            min_distance = total_distance\n",
    "            min_path = perm\n",
    "\n",
    "    return min_path\n",
    "\n",
    "if is_linear:\n",
    "    # Make the list of points\n",
    "    incorrect_path = [(x, y) for x, y, _ in PATH]\n",
    "    # Find the most optimal path between points\n",
    "    hamiltonian_path = find_hamiltonian_path(incorrect_path)\n",
    "    # Create a DataFrame\n",
    "    df = pd.DataFrame(hamiltonian_path, columns = ['x', 'y'])\n",
    "    # Add theoretical and practical values\n",
    "    df['z'] = df.apply(lambda row: make_api_call(row['x'], row['y']), axis=1)\n",
    "    df['z_theory'] = df.apply(lambda row: linear_function(row['x'], row['y']), axis=1)\n",
    "    #  Save path\n",
    "    df[['x', 'y']].to_csv('explores_01.csv', index=False, header=False)\n",
    "    print(df.head(10))\n",
    "    print(f\"Sum of all z-values traversed is {df['z'].sum()} (expected={df['z_theory'].sum()})\")"
   ],
   "id": "6096564ff39b20cd",
   "execution_count": 7,
   "outputs": []
  },
  {
   "metadata": {
    "ExecuteTime": {
     "end_time": "2024-04-22T13:09:43.944213Z",
     "start_time": "2024-04-22T13:09:43.942770Z"
    }
   },
   "cell_type": "code",
   "source": "",
   "id": "835d1d24bd882af0",
   "execution_count": 7,
   "outputs": []
  }
 ],
 "metadata": {
  "kernelspec": {
   "display_name": "Python 3",
   "language": "python",
   "name": "python3"
  },
  "language_info": {
   "codemirror_mode": {
    "name": "ipython",
    "version": 2
   },
   "file_extension": ".py",
   "mimetype": "text/x-python",
   "name": "python",
   "nbconvert_exporter": "python",
   "pygments_lexer": "ipython2",
   "version": "2.7.6"
  }
 },
 "nbformat": 4,
 "nbformat_minor": 5
}
