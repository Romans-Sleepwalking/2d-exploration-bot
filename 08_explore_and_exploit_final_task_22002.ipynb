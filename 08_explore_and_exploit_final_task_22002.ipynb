{
 "cells": [
  {
   "cell_type": "code",
   "id": "initial_id",
   "metadata": {
    "collapsed": true,
    "ExecuteTime": {
     "end_time": "2024-04-25T12:05:25.694666Z",
     "start_time": "2024-04-25T12:05:24.714405Z"
    }
   },
   "source": [
    "from itertools import permutations\n",
    "import math\n",
    "import matplotlib.pyplot as plt\n",
    "import numpy as np\n",
    "import pandas as pd\n",
    "import random\n",
    "import requests\n",
    "from sklearn.linear_model import LinearRegression\n",
    "from sklearn.svm import SVR\n",
    "from sklearn.preprocessing import MinMaxScaler\n",
    "from sklearn.model_selection import cross_val_score\n",
    "from sklearn.metrics import mean_squared_error, r2_score\n",
    "from typing import Callable\n",
    "# URL to make requests: fill in x and y coordinates\n",
    "URL = 'http://65.108.84.176:22002/{}/{}'\n",
    "NAME = 'final_task_tier_3'"
   ],
   "outputs": [],
   "execution_count": 1
  },
  {
   "cell_type": "markdown",
   "source": [
    "# Final Task API #3\n",
    "\n",
    "## 22002\n",
    "\n",
    "### Solve the linear environment.\n",
    "\n",
    "Objectives:\n",
    " 1. Grid sample the environment.\n",
    " 2. Fit the linear regression model.\n",
    " 3. Fit the SVM model.\n",
    " 4. Make moves in the environment."
   ],
   "metadata": {
    "collapsed": false
   },
   "id": "5888cc2ab147ef34"
  },
  {
   "cell_type": "code",
   "source": [
    "# Collected points from the server with explorations spent\n",
    "XY_EXPLORED = []\n",
    "POINTS_EXPLORED = []\n",
    "Z_MIN = None\n",
    "# Initial agent coordinates\n",
    "START_X = 0\n",
    "START_Y = 0\n",
    "# Path traversed by the agent\n",
    "PATH = []\n",
    "SOLVED = False"
   ],
   "metadata": {
    "collapsed": false,
    "ExecuteTime": {
     "end_time": "2024-04-25T12:05:25.697806Z",
     "start_time": "2024-04-25T12:05:25.695803Z"
    }
   },
   "id": "436ade424f1cfa4e",
   "outputs": [],
   "execution_count": 2
  },
  {
   "metadata": {},
   "cell_type": "markdown",
   "source": "Useful reusable methods",
   "id": "49b8e91fbb0fd8e5"
  },
  {
   "metadata": {
    "ExecuteTime": {
     "end_time": "2024-04-25T12:10:57.103883Z",
     "start_time": "2024-04-25T12:10:57.093075Z"
    }
   },
   "cell_type": "code",
   "source": [
    "def make_api_call(x: float=0.0, y: float=0.0) -> float:\n",
    "    \"\"\"Make an API call to the testing/exam server.\"\"\"\n",
    "    # Plug in x- and y-coordinates to gain the z-value of the point\n",
    "    if (x, y) not in XY_EXPLORED and not SOLVED:\n",
    "        response = requests.get(URL.format(x, y))\n",
    "        z = response.json()['z']\n",
    "        if Z_MIN and z < Z_MIN:\n",
    "            z = Z_MIN\n",
    "        XY_EXPLORED.append((x, y))\n",
    "        POINTS_EXPLORED.append((x, y, z))\n",
    "        return z\n",
    "    # Reuse the known values\n",
    "    return [_z for _x, _y, _z in POINTS_EXPLORED if _x == x and _y == y][0]\n",
    "\n",
    "def get_grid_points(depth: int, step: float, include_zeros=False) -> tuple[np.ndarray, np.ndarray]:\n",
    "    \"\"\"Query a rectangular map representation of the environment.\"\"\"\n",
    "    _df = pd.DataFrame(POINTS_EXPLORED, columns=['x', 'y', 'z'])\n",
    "    # Iterate over rows and columns\n",
    "    for y in reversed(range(-depth, depth + 1)):\n",
    "        for x in range(-depth, depth + 1):\n",
    "            if x==0 and y==0 and not include_zeros:\n",
    "                continue\n",
    "            if _df[(_df['x'] == x) & (_df['y'] == y)].empty:\n",
    "                if len(POINTS_EXPLORED) < 198:\n",
    "                    make_api_call(x * step, y * step)\n",
    "    # Return points in the numpy format\n",
    "    grid_arr = np.array(POINTS_EXPLORED)\n",
    "    return grid_arr[:, :2], grid_arr[:, 2]\n",
    "\n",
    "def solve_environment(pred_model: Callable, _depth=100, _sort=True) -> list[tuple[int, int, float]]:\n",
    "    \"\"\"Predict z-values over all in-scope points using custom model.\"\"\"\n",
    "    all_points = []\n",
    "    # Applies the model prediction over all cells in 201x201 grid from -100 to +100\n",
    "    for _y in reversed(range(-_depth, _depth + 1)):\n",
    "        for _x in range(-_depth, _depth + 1):\n",
    "            _z = pred_model(_x, _y)\n",
    "            all_points.append((_x, _y, _z))\n",
    "    # Sort the list of points by z-values ascending\n",
    "    if _sort:\n",
    "        all_points = sorted(all_points, key=lambda x: x[2])\n",
    "    return all_points\n",
    "\n",
    "def calculate_euclidean_distance(p1, p2):\n",
    "    \"\"\"Find the distance between two points.\"\"\"\n",
    "    return abs(p1[0] - p2[0]) + abs(p1[1] - p2[1])\n",
    "\n",
    "def find_hamiltonian_path(points):\n",
    "    \"\"\"Find the hamiltonian path between the richest points.\"\"\"\n",
    "    n = len(points)\n",
    "    min_distance = float('inf')\n",
    "    min_path = None\n",
    "    for perm in permutations(points):\n",
    "        total_distance = 0\n",
    "        for i in range(n - 1):\n",
    "            total_distance += calculate_euclidean_distance(perm[i], perm[i + 1])\n",
    "        if total_distance < min_distance:\n",
    "            min_distance = total_distance\n",
    "            min_path = perm\n",
    "    return min_path\n",
    "\n",
    "def is_linear(_model, _xy, _z, threshold_r2=0.8, threshold_mse=10) -> bool:\n",
    "    \"\"\"Prove that the dataset relationship is linear.\"\"\"\n",
    "    z_pred = _model.predict(_xy)\n",
    "    # Calculate R-squared\n",
    "    r2 = r2_score(_z, z_pred)\n",
    "    # Calculate Mean Squared Error\n",
    "    mse = mean_squared_error(_z, z_pred)\n",
    "    # Check if R-squared is above the threshold and MSE is below the threshold\n",
    "    if r2 >= threshold_r2 and mse <= threshold_mse:\n",
    "        return True\n",
    "    else:\n",
    "        return False\n",
    "\n",
    "def is_pred_success(xy_points, test_model, _name: str='') -> tuple[bool, pd.DataFrame]:\n",
    "    \"\"\"Test if the model predicted path properly.\"\"\"\n",
    "    # Create a DataFrame\n",
    "    _df = pd.DataFrame(xy_points, columns = ['x', 'y'])\n",
    "    # Add experimental and theoretical values\n",
    "    _df['z'] = _df.apply(lambda row: make_api_call(row['x'], row['y']), axis=1)\n",
    "    _df['z_theory'] = _df.apply(lambda row: test_model(row['x'], row['y']), axis=1)\n",
    "    # Save path\n",
    "    if _name:\n",
    "        _df[['x', 'y']].to_csv(f'{NAME}_{_name}.csv', index=False, header=False)\n",
    "    # Find z-value sums\n",
    "    z_experiment_sum = float(_df['z'].sum())\n",
    "    z_theory_sum = float(_df['z_theory'].sum())\n",
    "    relative_z_diff = abs(abs(z_theory_sum - z_experiment_sum) / z_theory_sum)\n",
    "    print(f\"Sum of all z-values traversed is {z_experiment_sum:.2f} (expected={z_theory_sum:.2f}; diff={relative_z_diff:.2f})\")\n",
    "    # Decide if predictions were successful; margin of error is 20%\n",
    "    if relative_z_diff > 0.20:\n",
    "        return False, _df\n",
    "    return True, _df\n",
    "\n",
    "def generate_random_points(num_points: int = 10, _depth=10):\n",
    "    \"\"\"Generate a random set of points in the close range to zero-coords.\"\"\"\n",
    "    res = []\n",
    "    for _ in range(num_points):\n",
    "        x = random.randint(-_depth, _depth)\n",
    "        y = random.randint(-_depth, _depth)\n",
    "        res.append((x, y))\n",
    "    return res"
   ],
   "id": "f84c849afcaffa6",
   "outputs": [],
   "execution_count": 15
  },
  {
   "metadata": {},
   "cell_type": "markdown",
   "source": [
    "#### 1. Grid sample the environment\n",
    "Strategy:\n",
    "1. Spend 25 explorations into getting 5x5 map representation of the environment.\n",
    "2. If the relationship is linear, then the environment is deterministic.\n",
    "3. Otherwise, the gridline would suggest where to look for the target."
   ],
   "id": "61c4313465ea6e47"
  },
  {
   "cell_type": "code",
   "source": "xy, z = get_grid_points(4, 25, include_zeros=True)",
   "metadata": {
    "collapsed": false,
    "ExecuteTime": {
     "end_time": "2024-04-25T12:05:33.335637Z",
     "start_time": "2024-04-25T12:05:25.706389Z"
    }
   },
   "id": "74ea7d30dc105cbc",
   "outputs": [],
   "execution_count": 4
  },
  {
   "metadata": {},
   "cell_type": "markdown",
   "source": "#### 2. Fit a linear regression model",
   "id": "dfd8cde8cea17796"
  },
  {
   "metadata": {
    "ExecuteTime": {
     "end_time": "2024-04-25T12:05:38.062640Z",
     "start_time": "2024-04-25T12:05:33.339246Z"
    }
   },
   "cell_type": "code",
   "source": [
    "# Create a linear regression model and fit it to the grid sample\n",
    "model = LinearRegression()\n",
    "model.fit(xy, z)\n",
    "# The coefficients and intercept of the plane\n",
    "a, b = model.coef_\n",
    "c = model.intercept_\n",
    "# Prove linearity of the environment\n",
    "is_linear_success = False\n",
    "if is_linear(model, xy, z):\n",
    "    # Replicate the function on the server\n",
    "    linear_function = lambda x, y: a * x + b * y + c\n",
    "    print(f\"The linear function is: z(x, y) = {a:.2f}x + {b:.2f}y + {c:.2f}\")\n",
    "    # Find all coordinates in the deterministic environment\n",
    "    all_points_sorted = solve_environment(linear_function)\n",
    "    # Select top 10 values\n",
    "    PATH = all_points_sorted[-10:]\n",
    "    # Make the list of points\n",
    "    incorrect_path = [(x, y) for x, y, _ in PATH]\n",
    "    # Find the most optimal path between points\n",
    "    hamiltonian_path = find_hamiltonian_path(incorrect_path)\n",
    "    # Predict over the path\n",
    "    is_linear_success, _ = is_pred_success(hamiltonian_path, linear_function, _name='linear')\n",
    "# Show if linear regression was a good fit\n",
    "if is_linear_success:\n",
    "    SOLVED = True\n",
    "    print(\"The environment is linear; therefore, deterministic and solved!\")\n",
    "else:\n",
    "    print(\"The environment is not linear...\")"
   ],
   "id": "fae0632e2463b421",
   "outputs": [
    {
     "name": "stdout",
     "output_type": "stream",
     "text": [
      "The linear function is: z(x, y) = -0.00x + -0.05y + 3.30\n",
      "Sum of all z-values traversed is 91.10 (expected=86.06; diff=0.06)\n",
      "The environment is linear; therefore, deterministic and solved!\n"
     ]
    }
   ],
   "execution_count": 5
  },
  {
   "metadata": {},
   "cell_type": "markdown",
   "source": "#### 3. Fit a support vector machine with RBF kernel",
   "id": "d9a7f252ab698e2"
  },
  {
   "metadata": {
    "ExecuteTime": {
     "end_time": "2024-04-25T12:05:38.069593Z",
     "start_time": "2024-04-25T12:05:38.064019Z"
    }
   },
   "cell_type": "code",
   "source": "len(POINTS_EXPLORED)",
   "id": "c1fb749f224652b",
   "outputs": [
    {
     "data": {
      "text/plain": [
       "90"
      ]
     },
     "execution_count": 6,
     "metadata": {},
     "output_type": "execute_result"
    }
   ],
   "execution_count": 6
  },
  {
   "metadata": {
    "ExecuteTime": {
     "end_time": "2024-04-25T12:09:47.326123Z",
     "start_time": "2024-04-25T12:09:45.093861Z"
    }
   },
   "cell_type": "code",
   "source": [
    "is_rbf_success = False\n",
    "# Small sample very close to the centre\n",
    "#_, _ = get_grid_points(5, 1, include_zeros=False)\n",
    "# Medium sample near the centre\n",
    "#_, _ = get_grid_points(2, 35, include_zeros=False)\n",
    "#\n",
    "Z_MIN = -(sorted(POINTS_EXPLORED, key=lambda x: x[2])[-1][2])\n",
    "POINTS_EXPLORED = [(x, y, z) if z > Z_MIN else (x, y, Z_MIN) for x, y, z in POINTS_EXPLORED]\n",
    "# Transform data for ML\n",
    "scaler = MinMaxScaler(feature_range=(0, 1))\n",
    "# Tune hyperparameters\n",
    "depths = [100]\n",
    "c_values = [50, 70, 100, 200]\n",
    "gamma_values = [100, 1000, 8_000, 12_000]\n",
    "best_rmse = float('inf')\n",
    "best_C = None\n",
    "best_gamma = None\n",
    "best_depth = None\n",
    "# Also, iterate depth\n",
    "for depth in depths:\n",
    "    # Adjust depth\n",
    "    xyz = np.array(POINTS_EXPLORED)\n",
    "    x_values = xyz[:, 0]\n",
    "    y_values = xyz[:, 1]\n",
    "    xyz_select = xyz[(x_values < depth) & (y_values < depth)]\n",
    "    # Select subsets\n",
    "    xy = xyz_select[:, :2]\n",
    "    z = xyz_select[:, 2]\n",
    "    # Re-scale\n",
    "    xy_scaled = scaler.fit_transform(xy)\n",
    "    for c in c_values:\n",
    "        for gamma in gamma_values:\n",
    "            # Create SVR model with current C and gamma\n",
    "            svr_model = SVR(kernel='rbf', C=c, gamma=gamma)\n",
    "            # Compute cross-validated MSE using 5-fold cross-validation\n",
    "            mse_scores = -cross_val_score(svr_model, xy_scaled, z, scoring='neg_mean_squared_error', cv=5)\n",
    "            rmse = np.sqrt(np.mean(mse_scores))\n",
    "            # Check if current combination yields lower MSE\n",
    "            if rmse < best_rmse:\n",
    "                best_rmse = rmse\n",
    "                best_C = c\n",
    "                best_gamma = gamma\n",
    "                best_depth = math.ceil(depth)\n",
    "print(\"Best C:\", best_C)\n",
    "print(\"Best depth:\", best_depth)\n",
    "print(\"Best gamma:\", best_gamma)\n",
    "# Re-train the model with best hyperparameters\n",
    "xyz = np.array(POINTS_EXPLORED)\n",
    "x_values = xyz[:, 0]\n",
    "y_values = xyz[:, 1]\n",
    "xyz_select = xyz[(x_values < best_depth) & (y_values < best_depth)]\n",
    "xy = xyz_select[:, :2]\n",
    "z = xyz_select[:, 2]\n",
    "xy_scaled = scaler.fit_transform(xy)\n",
    "# Use best C and gamma\n",
    "rbf_svm_model = SVR(kernel='rbf', degree=4, C=best_C, gamma=best_gamma)\n",
    "rbf_svm_model.fit(xy_scaled, z)\n",
    "# Wrap the model into a simple x,y -> z function\n",
    "def rbf_svm_model_wrapper(_x: float=0.0, _y: float=0.0) -> float:\n",
    "    \"\"\"Wraps scikit-learn model.\"\"\"\n",
    "    scaled_xy = scaler.transform(np.array([[_x, _y]]))\n",
    "    return rbf_svm_model.predict(scaled_xy)[0]\n",
    "# Find all coordinates in the deterministic environment\n",
    "all_points_sorted = solve_environment(rbf_svm_model_wrapper, _depth=best_depth)\n",
    "# Select top 50 values\n",
    "TOP_TILE = all_points_sorted[-1]\n",
    "POINT_DICT = {(x, y): z for x, y, z in all_points_sorted}\n",
    "PATH = []\n",
    "def build_path(curr_x, curr_y, pick_second: bool=False):\n",
    "    \"\"\"Build path.\"\"\"\n",
    "    if len(PATH) >= 10:\n",
    "        return\n",
    "    options = []\n",
    "    for next_x in range(curr_x-1, curr_x+2):\n",
    "        for next_y in range(curr_y-1, curr_y+2):\n",
    "            if (next_x, next_y) not in PATH and abs(next_x) <= best_depth and abs(next_y) <= best_depth:\n",
    "                options.append((next_x, next_y, POINT_DICT[(next_x, next_y)]))\n",
    "    # Pick max\n",
    "    if options and pick_second:\n",
    "        best_option = sorted(options, key=lambda x: x[2])[-2]\n",
    "        PATH.append(best_option)\n",
    "        return build_path(best_option[0], best_option[1])\n",
    "    elif options:\n",
    "        best_option = sorted(options, key=lambda x: x[2])[-1]\n",
    "        PATH.append((best_option[0], best_option[1]))\n",
    "        return build_path(best_option[0], best_option[1])\n",
    "    else:\n",
    "        _ = PATH.pop\n",
    "        return build_path(curr_x, curr_y, pick_second=True)\n",
    "build_path(TOP_TILE[0], TOP_TILE[1])\n"
   ],
   "id": "835d1d24bd882af0",
   "outputs": [
    {
     "name": "stdout",
     "output_type": "stream",
     "text": [
      "Best C: 50\n",
      "Best depth: 100\n",
      "Best gamma: 100\n"
     ]
    }
   ],
   "execution_count": 10
  },
  {
   "metadata": {
    "ExecuteTime": {
     "end_time": "2024-04-25T12:11:03.322903Z",
     "start_time": "2024-04-25T12:11:02.452640Z"
    }
   },
   "cell_type": "code",
   "source": [
    "# Predict over the path\n",
    "is_rbf_success, df = is_pred_success(PATH, rbf_svm_model_wrapper, _name='rbf')\n",
    "# Show the good fit\n",
    "if is_rbf_success:\n",
    "    print(f\"The environment has been well-learned using RBF kernel (gamma={best_gamma}); therefore, an environment is somewhat predictable!\")\n",
    "else:\n",
    "    print(f\"The environment was not estimated using RBF kernel (gamma={best_gamma})...\")"
   ],
   "id": "fcdec82a21f6a245",
   "outputs": [
    {
     "name": "stdout",
     "output_type": "stream",
     "text": [
      "Sum of all z-values traversed is 3.41 (expected=92.95; diff=0.96)\n",
      "The environment was not estimated using RBF kernel (gamma=100)...\n"
     ]
    }
   ],
   "execution_count": 16
  },
  {
   "metadata": {},
   "cell_type": "markdown",
   "source": "### How many points explored + traversed?",
   "id": "6ed4be2fa04d27d1"
  },
  {
   "metadata": {
    "ExecuteTime": {
     "end_time": "2024-04-25T12:11:16.194277Z",
     "start_time": "2024-04-25T12:11:16.190967Z"
    }
   },
   "cell_type": "code",
   "source": "len(POINTS_EXPLORED)",
   "id": "af5f60f20d21e212",
   "outputs": [
    {
     "data": {
      "text/plain": [
       "100"
      ]
     },
     "execution_count": 17,
     "metadata": {},
     "output_type": "execute_result"
    }
   ],
   "execution_count": 17
  },
  {
   "metadata": {},
   "cell_type": "markdown",
   "source": "### Visual representation",
   "id": "541cb04c25baa0b"
  },
  {
   "metadata": {
    "ExecuteTime": {
     "end_time": "2024-04-25T12:13:04.737348Z",
     "start_time": "2024-04-25T12:13:04.596810Z"
    }
   },
   "cell_type": "code",
   "source": [
    "def get_square_map(funci: Callable, depth: int = 2, step: float = 1, name = 'test') -> np.ndarray:\n",
    "    \"\"\"Query a rectangular map representation of the environment.\"\"\"\n",
    "    size = 2 * depth + 1\n",
    "    square_map = np.zeros((size, size))\n",
    "    # Iterate over rows and columns\n",
    "    for y in reversed(range(-depth, depth + 1)):\n",
    "        for x in range(-depth, depth + 1):\n",
    "            square_map[-y + depth, x + depth] = funci(x * step, y * step)\n",
    "    # Save the map as a text file\n",
    "    np.savetxt(f'{name}_map.txt', square_map, fmt='%d')\n",
    "    return square_map\n",
    "\n",
    "def plot_heatmap(square_map: np.ndarray, name = 'test') -> None:\n",
    "    \"\"\"Plot the squared environment as a heatmap.\"\"\"\n",
    "    # Find min-max values to set up temperature properly\n",
    "    min_val = np.min(square_map)\n",
    "    max_val = np.max(square_map)\n",
    "    # Plot heatmap\n",
    "    plt.figure(figsize=(8, 6))\n",
    "    plt.imshow(square_map, cmap='coolwarm', vmin=min_val, vmax=max_val, interpolation='nearest')\n",
    "    plt.title(f'The glorious {name} map')\n",
    "    plt.colorbar()\n",
    "    plt.show()\n",
    "# Test\n",
    "plot_heatmap(get_square_map(rbf_svm_model_wrapper, depth=int(10), name='predicted'), name='predicted')"
   ],
   "id": "e8f238ebfc64122b",
   "outputs": [
    {
     "data": {
      "text/plain": [
       "<Figure size 800x600 with 2 Axes>"
      ],
      "image/png": "[encoded data removed]"
     },
     "metadata": {},
     "output_type": "display_data"
    }
   ],
   "execution_count": 18
  },
  {
   "metadata": {
    "ExecuteTime": {
     "end_time": "2024-04-25T12:13:06.189188Z",
     "start_time": "2024-04-25T12:13:06.185907Z"
    }
   },
   "cell_type": "code",
   "source": "Z_MIN",
   "id": "f3e815dbf007d607",
   "outputs": [
    {
     "data": {
      "text/plain": [
       "-9.146441781414037"
      ]
     },
     "execution_count": 19,
     "metadata": {},
     "output_type": "execute_result"
    }
   ],
   "execution_count": 19
  },
  {
   "metadata": {},
   "cell_type": "code",
   "source": "all_points_sorted[-1]",
   "id": "f0279f4138637f7b",
   "outputs": [],
   "execution_count": null
  },
  {
   "metadata": {},
   "cell_type": "code",
   "source": "",
   "id": "93a92b95b20a346d",
   "outputs": [],
   "execution_count": null
  }
 ],
 "metadata": {
  "kernelspec": {
   "display_name": "Python 3",
   "language": "python",
   "name": "python3"
  },
  "language_info": {
   "codemirror_mode": {
    "name": "ipython",
    "version": 2
   },
   "file_extension": ".py",
   "mimetype": "text/x-python",
   "name": "python",
   "nbconvert_exporter": "python",
   "pygments_lexer": "ipython2",
   "version": "2.7.6"
  }
 },
 "nbformat": 4,
 "nbformat_minor": 5
}
