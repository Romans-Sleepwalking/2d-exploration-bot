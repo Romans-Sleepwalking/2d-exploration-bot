{
 "cells": [
  {
   "cell_type": "code",
   "id": "initial_id",
   "metadata": {
    "collapsed": true,
    "ExecuteTime": {
     "end_time": "2024-04-21T13:29:02.687449Z",
     "start_time": "2024-04-21T13:29:02.294254Z"
    }
   },
   "source": [
    "import requests\n",
    "import numpy as np\n",
    "import matplotlib.pyplot as plt\n",
    "from tqdm.notebook import tqdm\n",
    "# URL to make requests: fill in x and y coordinates\n",
    "URL = 'http://65.108.84.176:8080/{}/{}'"
   ],
   "execution_count": 2,
   "outputs": []
  },
  {
   "metadata": {},
   "cell_type": "markdown",
   "source": [
    "# Task\n",
    "\n",
    "### Visually explore the testing environment\n"
   ],
   "id": "ef356022be96b94a"
  },
  {
   "cell_type": "code",
   "source": [
    "def make_api_call(x: float = 0, y: float = 0) -> float:\n",
    "    \"\"\"Make API call to the testing server.\"\"\"\n",
    "    # Plug in x and y coordinates provided\n",
    "    response = requests.get(URL.format(x, y))\n",
    "    # Parse JSON with received z-coordinate\n",
    "    return response.json()['z']    "
   ],
   "metadata": {
    "collapsed": false,
    "ExecuteTime": {
     "end_time": "2024-04-21T13:29:04.684472Z",
     "start_time": "2024-04-21T13:29:04.680949Z"
    }
   },
   "id": "436ade424f1cfa4e",
   "execution_count": 3,
   "outputs": []
  },
  {
   "metadata": {},
   "cell_type": "markdown",
   "source": "#### Numerical representation of the environment",
   "id": "54421d035bbbfbc5"
  },
  {
   "cell_type": "code",
   "source": [
    "for y in reversed(range(-5, 5 + 1)):\n",
    "    print('', end='\\n')\n",
    "    for x in range(-5, 5 + 1):\n",
    "        z = str(make_api_call(x, y))\n",
    "        z = ' ' + z if len(z) == 1 else z\n",
    "        z = ' ' + z if len(z) == 2 else z\n",
    "        z = ' ' + z if len(z) == 3 else z\n",
    "        print(z, end='')"
   ],
   "metadata": {
    "collapsed": false,
    "ExecuteTime": {
     "end_time": "2024-04-21T15:36:20.567946Z",
     "start_time": "2024-04-21T15:36:11.773654Z"
    }
   },
   "id": "74ea7d30dc105cbc",
   "execution_count": 15,
   "outputs": []
  },
  {
   "cell_type": "markdown",
   "source": "#### Single-step heatmap of the environment",
   "metadata": {
    "collapsed": false
   },
   "id": "fc83884949033083"
  },
  {
   "cell_type": "code",
   "source": [
    "def get_square_map(depth: int = 2, step: float = 1, name = 'test') -> np.ndarray:\n",
    "    \"\"\"Query a rectangular map representation of the environment.\"\"\"\n",
    "    size = 2 * depth + 1\n",
    "    square_map = np.zeros((size, size))\n",
    "    # Iterate over rows and columns\n",
    "    desc = f'Downloading \\\"{name}\\\" {size}x{size} sample'\n",
    "    for y in tqdm(reversed(range(-depth, depth + 1)), total=size, desc=desc):\n",
    "        for x in range(-depth, depth + 1):\n",
    "            square_map[-y + depth, x + depth] = make_api_call(x * step, y * step)\n",
    "    # Save the map as a text file\n",
    "    np.savetxt(f'{name}_map.txt', square_map, fmt='%d')\n",
    "    return square_map\n",
    "# Test\n",
    "small_map_name = 'smöll'\n",
    "small_map = get_square_map(depth=2, name=small_map_name)\n",
    "small_map"
   ],
   "metadata": {
    "collapsed": false,
    "ExecuteTime": {
     "end_time": "2024-04-21T16:05:58.060441Z",
     "start_time": "2024-04-21T16:05:56.188893Z"
    }
   },
   "id": "45d63925bcdaeb6c",
   "execution_count": 51,
   "outputs": []
  },
  {
   "cell_type": "code",
   "source": [
    "def plot_heatmap(square_map: np.ndarray, name = 'test') -> None:\n",
    "    \"\"\"Plot the squared environment as a heatmap.\"\"\"\n",
    "    # Find min-max values to set up temperature properly\n",
    "    min_val = np.min(square_map)\n",
    "    max_val = np.max(square_map)\n",
    "    abs_max = abs(min_val) if abs(min_val) > max_val else max_val\n",
    "    # Plot heatmap\n",
    "    plt.figure(figsize=(8, 6))\n",
    "    plt.imshow(square_map, cmap='coolwarm', vmin=-abs_max, vmax=abs_max, interpolation='nearest')\n",
    "    plt.title(f'The glorious {name} map')\n",
    "    plt.colorbar()\n",
    "    plt.show()\n",
    "# Test\n",
    "plot_heatmap(small_map, name=small_map_name)"
   ],
   "metadata": {
    "collapsed": false,
    "ExecuteTime": {
     "end_time": "2024-04-21T16:06:06.915785Z",
     "start_time": "2024-04-21T16:06:06.825135Z"
    }
   },
   "id": "711c88157c5734a3",
   "execution_count": 52,
   "outputs": []
  },
  {
   "cell_type": "code",
   "source": [
    "map_81_name = 'mid'\n",
    "map_81 = get_square_map(depth=4, name=map_81_name)\n",
    "plot_heatmap(map_81, name=map_81_name)"
   ],
   "metadata": {
    "collapsed": false,
    "ExecuteTime": {
     "end_time": "2024-04-21T16:06:16.779672Z",
     "start_time": "2024-04-21T16:06:10.703484Z"
    }
   },
   "id": "46223bd04fc676c4",
   "execution_count": 53,
   "outputs": []
  },
  {
   "cell_type": "code",
   "source": [
    "map_361_name = 'biggie'\n",
    "map_361 = get_square_map(depth=8, name=map_361_name)\n",
    "plot_heatmap(map_361, name=map_361_name)"
   ],
   "metadata": {
    "collapsed": false,
    "ExecuteTime": {
     "end_time": "2024-04-21T16:06:40.868800Z",
     "start_time": "2024-04-21T16:06:19.509561Z"
    }
   },
   "id": "703d1809e6b6b5e7",
   "execution_count": 54,
   "outputs": []
  },
  {
   "metadata": {
    "ExecuteTime": {
     "end_time": "2024-04-21T16:30:53.328679Z",
     "start_time": "2024-04-21T16:30:53.167535Z"
    }
   },
   "cell_type": "code",
   "source": [
    "print(f'Maximum: {make_api_call(100, 100)}')\n",
    "print(f'Minimum: {make_api_call(-100, -100)}')"
   ],
   "id": "bb1edcca9e3ecfa2",
   "execution_count": 59,
   "outputs": []
  },
  {
   "cell_type": "markdown",
   "source": [
    "* The environment contains z-values spanning from negative infinity to positive infinity.\n",
    "* The environment gradually transitions between lows and highs:\n",
    "    * global minimum at (8, 8)\n",
    "    * global maximum at (-8, -8)\n",
    "* The single-step map revealed only one local maximum and only one local minimum\n",
    "* Revealing 100x100 map by single step takes too many explorations\n",
    "\n",
    "---\n",
    "\n",
    "#### Far-step heatmap of the environment"
   ],
   "metadata": {
    "collapsed": false
   },
   "id": "d1de8463953c6889"
  },
  {
   "cell_type": "code",
   "source": [
    "sizes = [\n",
    "    (6, 16, '16_step_13_x_13'),\n",
    "    (5, 20, '20_step_11_x_11'),\n",
    "    (4, 25, '25_step_9_x_9'),\n",
    "    (3, 33, '33_step_7_x_7'),\n",
    "    (2, 50, '50_step_5_x_5'),\n",
    "    (1, 100, '100_step_3_x_3'),\n",
    "]\n",
    "for depth, step, name in sizes:\n",
    "    square_map = get_square_map(depth=depth, step=step, name=name)\n",
    "    plot_heatmap(square_map, name=name)"
   ],
   "metadata": {
    "collapsed": false,
    "ExecuteTime": {
     "end_time": "2024-04-21T17:16:37.507535Z",
     "start_time": "2024-04-21T17:16:02.252998Z"
    }
   },
   "id": "6f4ee9b0ef24233e",
   "execution_count": 65,
   "outputs": []
  },
  {
   "metadata": {},
   "cell_type": "markdown",
   "source": [
    "* Revealing the 14x14 map would take 196 explorations.\n",
    "* Revealing the 13x13 map with 16-long steps would take 169 explorations and cover -96 to 96 range.\n",
    "* Revealing the 11x11 map with 20-long steps would take 121 explorations and cover -100 to 100 range.\n",
    "* Revealing the 9x9 map with 25-long steps would take 81 explorations and cover -100 to 100 range.\n",
    "* Revealing the 7x7 map with 33-long steps would take 49 explorations and cover -99 to 99 range.\n",
    "* Map's z-values do span from negative infinity to positive infinity.\n",
    "* The global maximum is located in (x=negative infinity, y=positive infitity).\n",
    "* The global minimum is located in (x=positive infinity, y=negative infitity).\n",
    "* The assumption could be made that there are no local minimums and maximums except the global ones.\n",
    "\n",
    "---\n",
    "\n",
    "#### Conclusions\n",
    "\n",
    "1. The map is built using a linear function.\n",
    "2. The linear function goes through zero-coordinates.\n",
    "3. The best solution is at the edge of the map.\n",
    "4. The linear regression should be the most optimal solution to learn the pattern."
   ],
   "id": "583abef6d587e31d"
  },
  {
   "metadata": {},
   "cell_type": "code",
   "execution_count": null,
   "source": "",
   "id": "8cf65424b600d186",
   "outputs": []
  }
 ],
 "metadata": {
  "kernelspec": {
   "display_name": "Python 3",
   "language": "python",
   "name": "python3"
  },
  "language_info": {
   "codemirror_mode": {
    "name": "ipython",
    "version": 2
   },
   "file_extension": ".py",
   "mimetype": "text/x-python",
   "name": "python",
   "nbconvert_exporter": "python",
   "pygments_lexer": "ipython2",
   "version": "2.7.6"
  }
 },
 "nbformat": 4,
 "nbformat_minor": 5
}
